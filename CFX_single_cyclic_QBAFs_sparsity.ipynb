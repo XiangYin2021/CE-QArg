{
 "cells": [
  {
   "cell_type": "code",
   "execution_count": 1,
   "metadata": {
    "collapsed": true
   },
   "outputs": [],
   "source": [
    "import re\n",
    "import math\n",
    "import sys\n",
    "sys.path.append(\"../../src/\")\n",
    "import uncertainpy.gradual as grad\n",
    "import time\n",
    "from statistics import median\n",
    "import random\n",
    "random.seed(0)"
   ]
  },
  {
   "cell_type": "code",
   "execution_count": 2,
   "outputs": [],
   "source": [
    "# Parse a QBAF file to an adjacency matrix\n",
    "def parse_qbaf(filename):\n",
    "    num_nodes = 0\n",
    "    with open(filename, 'r') as file:\n",
    "        for line in file:\n",
    "            match = re.match(r'(\\w+)\\((\\d+), ([\\d.]+)\\)', line)\n",
    "            if match:\n",
    "                type, node_id1, weight = match.groups()\n",
    "                if type == 'arg':\n",
    "                    num_nodes += 1\n",
    "            else:\n",
    "                raise ValueError(f\"can't parse this line: {line}\")\n",
    "        adj_matrix = [[0] * num_nodes for _ in range(num_nodes)]\n",
    "\n",
    "    with open(filename, 'r') as file:\n",
    "        for line in file:\n",
    "            match = re.match(r'(\\w+)\\((\\d+), ([\\d.]+)\\)', line)\n",
    "            if match:\n",
    "                type, node_id1, node_id2 = match.groups()\n",
    "                if type == 'att':\n",
    "                    adj_matrix[int(node_id1)][int(node_id2)] = -1\n",
    "                elif type == 'sup':\n",
    "                    adj_matrix[int(node_id1)][int(node_id2)] = 1\n",
    "            else:\n",
    "                raise ValueError(f\"can't parse this line: {line}\")\n",
    "    return adj_matrix"
   ],
   "metadata": {
    "collapsed": false
   }
  },
  {
   "cell_type": "code",
   "execution_count": 3,
   "outputs": [],
   "source": [
    "# Convert the adjacency matrix to a python dictionary\n",
    "def adjacency_matrix_to_dict(adj_matrix):\n",
    "    graph_dict = {}\n",
    "\n",
    "    for i, row in enumerate(adj_matrix):\n",
    "        neighbors = set(j for j, weight in enumerate(row) if weight != 0)\n",
    "        graph_dict[i] = neighbors\n",
    "\n",
    "    return graph_dict"
   ],
   "metadata": {
    "collapsed": false
   }
  },
  {
   "cell_type": "code",
   "execution_count": 4,
   "outputs": [],
   "source": [
    "# Check if a node contains a loop to itself\n",
    "def find_cycles(graph, start, current, visited, path, cycles):\n",
    "    visited[current] = True\n",
    "    path.append(current)\n",
    "    for neighbor in graph[current]:\n",
    "        if neighbor == start and len(path) > 0:\n",
    "            # find a cycle\n",
    "            cycles.append(path.copy()+[neighbor])\n",
    "        elif not visited[neighbor]:\n",
    "            find_cycles(graph, start, neighbor, visited, path, cycles)\n",
    "    # backtracking\n",
    "    visited[current] = False\n",
    "    path.pop()\n",
    "\n",
    "# Check all the nodes in a QBAF if they contain loops to themselves, if there is any, then the QBAF is cyclic.\n",
    "def find_all_cycles(graph):\n",
    "    cycles = []\n",
    "    num_nodes = len(graph)\n",
    "    visited = [False] * num_nodes\n",
    "    for node in range(num_nodes):\n",
    "        find_cycles(graph, node, node, visited, [], cycles)\n",
    "    return cycles\n",
    "\n",
    "# Compute the polarity of a cycle (cycles are also paths).\n",
    "def compute_cycle_polarity(cycles, adj_matrix):\n",
    "    cycles_polarity_dict = {}\n",
    "\n",
    "    for cycle in cycles:\n",
    "        cycles_polarity_dict[cycle[0]] = 1 # initialise\n",
    "\n",
    "    for cycle in cycles:\n",
    "        if cycles_polarity_dict[cycle[0]] != -1:\n",
    "            temp = 1\n",
    "            for i in range(len(cycle)-1):\n",
    "                temp *= adj_matrix[cycle[i]][cycle[i+1]]\n",
    "            if temp == -1:\n",
    "                cycles_polarity_dict[cycle[0]] = -1\n",
    "                continue\n",
    "    return cycles_polarity_dict"
   ],
   "metadata": {
    "collapsed": false
   }
  },
  {
   "cell_type": "code",
   "execution_count": 5,
   "outputs": [],
   "source": [
    "# Compute all the paths between two arguments\n",
    "def find_all_paths_between_two_args(graph, start, end, path=[]):\n",
    "    path = path + [start]\n",
    "    if start == end:\n",
    "        return [path]\n",
    "    if start not in graph:\n",
    "        return []\n",
    "    paths = []\n",
    "    for node in graph[start]:\n",
    "        if node not in path:\n",
    "            new_paths = find_all_paths_between_two_args(graph, node, end, path)\n",
    "            for new_path in new_paths:\n",
    "                paths.append(new_path)\n",
    "    return paths\n",
    "\n",
    "def find_all_paths_between_two_args_complete(graph, start, end, path=[]):\n",
    "    if start == end:\n",
    "        return []\n",
    "    else:\n",
    "        paths = find_all_paths_between_two_args(graph, start, end)\n",
    "        return paths"
   ],
   "metadata": {
    "collapsed": false
   }
  },
  {
   "cell_type": "code",
   "execution_count": 6,
   "outputs": [],
   "source": [
    "# Compute the (direct or indirect) polarity from one node to another, return an integer\n",
    "def compute_polarity_between_two_args(graph, start_node, end_node, cycles_polarity, adj_matrix):\n",
    "    paths = find_all_paths_between_two_args_complete(graph, start_node, end_node)\n",
    "    paths_count = len(paths)\n",
    "    # print(paths_count)\n",
    "    # print(paths)\n",
    "\n",
    "    # case1: self to self:\n",
    "    if start_node == end_node:\n",
    "        return 1 # positive\n",
    "\n",
    "    # case2: no path\n",
    "    if paths_count == 0:\n",
    "        return -2 # neutral\n",
    "\n",
    "    # case3: 1 path or more than 1\n",
    "    elif paths_count >= 1:\n",
    "        node_in_paths = {element for sublist in paths for element in sublist}\n",
    "        for node in node_in_paths:\n",
    "            if node in cycles_polarity and cycles_polarity[node] == -1:\n",
    "                return 0 # contains negative cycles, thus unknown\n",
    "\n",
    "        # record the polarity for each path\n",
    "        recodr_polarity = [1] * paths_count\n",
    "        for j in range(paths_count):\n",
    "            for i in range(len(paths[j])-1):\n",
    "                recodr_polarity[j] *= adj_matrix[paths[j][i]][paths[j][i+1]]\n",
    "\n",
    "        if all(x == 1 for x in recodr_polarity):\n",
    "            pol = 1 # positive: if all the paths are positive\n",
    "        elif all(x == -1 for x in recodr_polarity):\n",
    "            pol = -1 # negative: if all the paths are negative\n",
    "        else:\n",
    "            pol = 0 # unknown: some paths positive while some negative\n",
    "\n",
    "        return pol"
   ],
   "metadata": {
    "collapsed": false
   }
  },
  {
   "cell_type": "code",
   "execution_count": 7,
   "outputs": [],
   "source": [
    "# Compute the polarity for all the nodes to the topic argument, return a vector\n",
    "def compute_polarity_vector(graph, topic_arg, cycles_polarity, adj_matrix):\n",
    "    num_nodes = len(graph)\n",
    "    polarity_vector = [-2] * num_nodes\n",
    "    for i in range(num_nodes):\n",
    "        polarity_vector[i] = compute_polarity_between_two_args(graph, i, topic_arg, cycles_polarity, adj_matrix)\n",
    "    return polarity_vector"
   ],
   "metadata": {
    "collapsed": false
   }
  },
  {
   "cell_type": "code",
   "execution_count": 8,
   "outputs": [],
   "source": [
    "# Compute priority (not polarity) between two arguments\n",
    "def compute_priority_between_two_args(graph, start, end):\n",
    "    if start == end:\n",
    "        return 3 # itself\n",
    "    paths = find_all_paths_between_two_args(graph, start, end)\n",
    "    if len(paths) == 0:\n",
    "        return 0 # disconnected\n",
    "    min_length = min(len(path) for path in paths) - 1\n",
    "    priority = 1 / min_length # single/multi-path connected\n",
    "    return priority"
   ],
   "metadata": {
    "collapsed": false
   }
  },
  {
   "cell_type": "code",
   "execution_count": 9,
   "outputs": [],
   "source": [
    "# Compute the priority for all arguments to the topic argument\n",
    "def compute_priority_vector(graph, topic_arg):\n",
    "    num_nodes = len(graph)\n",
    "    priority_vector = [0] * num_nodes\n",
    "    for i in range(num_nodes):\n",
    "        priority_vector[i] = compute_priority_between_two_args(graph, i, topic_arg)\n",
    "    return priority_vector"
   ],
   "metadata": {
    "collapsed": false
   }
  },
  {
   "cell_type": "code",
   "execution_count": 10,
   "outputs": [],
   "source": [
    "def compute_sparsity(bs1, bs2):\n",
    "    count = 0\n",
    "    for item in bs1:\n",
    "        if bs1[item]!=bs2[item]:\n",
    "            count += 1\n",
    "    return count"
   ],
   "metadata": {
    "collapsed": false
   }
  },
  {
   "cell_type": "code",
   "execution_count": 11,
   "outputs": [],
   "source": [
    "def compute_potential_cause_cyclic_sparsity(filename, topic_arg, desired_strength, polarity, priority, model):\n",
    "\n",
    "    model.approximator = grad.algorithms.RK4(model)\n",
    "    model.BAG = grad.BAG(filename)\n",
    "    model.solve(delta=10e-2, epsilon=10e-4, verbose=False, generate_plot=False)\n",
    "\n",
    "    pre_strength = -1\n",
    "\n",
    "    # print(f\"desired_strength:{desired_strength}\")\n",
    "    initial_strength = model.BAG.arguments[str(topic_arg)].strength\n",
    "    cur_strength = initial_strength\n",
    "    print(f\"cur_strength:{initial_strength}\")\n",
    "\n",
    "    # rank the priority list\n",
    "    sorted_priority = sorted(priority, reverse=True)\n",
    "    indices_sorted_priority = [index for index, value in sorted(enumerate(priority), key=lambda x: x[1], reverse=True)]\n",
    "\n",
    "\n",
    "    # traverse all the argument from the highest priority to the lowest\n",
    "    for i in indices_sorted_priority:\n",
    "        if pre_strength == cur_strength:\n",
    "            break\n",
    "        if (desired_strength - cur_strength) * (desired_strength - initial_strength) > 0: # initial strength and current strength still at the same side\n",
    "\n",
    "            # increase positive and decrease negative\n",
    "            if (desired_strength - cur_strength) * polarity[i] > 0:\n",
    "                model.BAG.arguments[str(i)].reset_initial_weight(1.0)\n",
    "            elif (desired_strength - cur_strength) * polarity[i] < 0:\n",
    "                model.BAG.arguments[str(i)].reset_initial_weight(0.0)\n",
    "\n",
    "            # re-compute the strength\n",
    "            print(f\"desired_strength:{desired_strength}\")\n",
    "            pre_strength = cur_strength\n",
    "            model.solve(delta=10e-2, epsilon=10e-4, verbose=False, generate_plot=False)\n",
    "            cur_strength = model.BAG.arguments[str(topic_arg)].strength\n",
    "            print(f\"cur_strength:{cur_strength}\")\n",
    "\n",
    "            # print current bs\n",
    "            current_bs_dict = {}\n",
    "            for arg in model.BAG.arguments.values():\n",
    "                current_bs_dict[arg.get_name()] = arg.get_initial_weight()\n",
    "            print(f\"current base scores: {current_bs_dict}\")\n",
    "\n",
    "    # print current bs\n",
    "    current_bs_dict = {}\n",
    "    for arg in model.BAG.arguments.values():\n",
    "        current_bs_dict[arg.get_name()] = arg.get_initial_weight()\n",
    "    print(f\"current base scores: {current_bs_dict}\")\n",
    "\n",
    "    # compute validity\n",
    "    validity = False\n",
    "    if (desired_strength - cur_strength) * (desired_strength - initial_strength) < 0 or desired_strength == cur_strength:\n",
    "        validity = True\n",
    "\n",
    "    return current_bs_dict, validity"
   ],
   "metadata": {
    "collapsed": false
   }
  },
  {
   "cell_type": "code",
   "execution_count": 12,
   "outputs": [
    {
     "name": "stdout",
     "output_type": "stream",
     "text": [
      "cur_strength:0.25\n",
      "desired_strength:0.5\n",
      "cur_strength:0.9994400569917434\n",
      "current base scores: {'0': 1.0, '1': 0.49, '2': 0.2, '3': 0.08, '4': 0.27, '5': 0.19, '6': 0.74, '7': 0.88, '8': 0.14, '9': 0.15, '10': 0.13, '11': 0.93, '12': 0.11, '13': 0.71, '14': 0.48, '15': 0.22, '16': 0.8, '17': 0.46, '18': 0.55, '19': 0.86, '20': 0.69, '21': 0.47, '22': 0.58, '23': 0.73, '24': 0.21, '25': 0.37, '26': 0.29, '27': 0.03, '28': 0.62, '29': 0.96, '30': 0.94, '31': 0.74, '32': 0.17, '33': 0.76, '34': 0.57, '35': 0.67, '36': 0.69, '37': 0.95, '38': 0.68, '39': 0.44, '40': 0.95, '41': 0.59, '42': 0.03, '43': 0.3, '44': 0.41, '45': 0.42, '46': 0.43, '47': 0.17, '48': 0.54, '49': 0.86, '50': 0.19, '51': 0.07, '52': 0.47, '53': 0.68, '54': 0.57, '55': 0.23, '56': 0.71, '57': 0.39, '58': 0.08, '59': 0.1, '60': 0.39, '61': 0.92, '62': 0.61, '63': 0.56, '64': 0.39, '65': 0.93, '66': 0.92, '67': 0.24, '68': 0.1, '69': 0.29, '70': 0.66, '71': 0.84, '72': 0.86, '73': 0.53, '74': 0.24, '75': 0.32, '76': 0.23, '77': 0.81, '78': 0.66, '79': 0.25, '80': 0.51, '81': 0.9, '82': 0.12, '83': 0.48, '84': 0.67, '85': 0.32, '86': 0.3, '87': 0.04, '88': 0.54, '89': 0.41, '90': 0.57, '91': 0.08, '92': 0.85, '93': 0.0, '94': 0.85, '95': 0.75, '96': 0.23, '97': 0.11, '98': 0.38, '99': 0.67}\n",
      "current base scores: {'0': 1.0, '1': 0.49, '2': 0.2, '3': 0.08, '4': 0.27, '5': 0.19, '6': 0.74, '7': 0.88, '8': 0.14, '9': 0.15, '10': 0.13, '11': 0.93, '12': 0.11, '13': 0.71, '14': 0.48, '15': 0.22, '16': 0.8, '17': 0.46, '18': 0.55, '19': 0.86, '20': 0.69, '21': 0.47, '22': 0.58, '23': 0.73, '24': 0.21, '25': 0.37, '26': 0.29, '27': 0.03, '28': 0.62, '29': 0.96, '30': 0.94, '31': 0.74, '32': 0.17, '33': 0.76, '34': 0.57, '35': 0.67, '36': 0.69, '37': 0.95, '38': 0.68, '39': 0.44, '40': 0.95, '41': 0.59, '42': 0.03, '43': 0.3, '44': 0.41, '45': 0.42, '46': 0.43, '47': 0.17, '48': 0.54, '49': 0.86, '50': 0.19, '51': 0.07, '52': 0.47, '53': 0.68, '54': 0.57, '55': 0.23, '56': 0.71, '57': 0.39, '58': 0.08, '59': 0.1, '60': 0.39, '61': 0.92, '62': 0.61, '63': 0.56, '64': 0.39, '65': 0.93, '66': 0.92, '67': 0.24, '68': 0.1, '69': 0.29, '70': 0.66, '71': 0.84, '72': 0.86, '73': 0.53, '74': 0.24, '75': 0.32, '76': 0.23, '77': 0.81, '78': 0.66, '79': 0.25, '80': 0.51, '81': 0.9, '82': 0.12, '83': 0.48, '84': 0.67, '85': 0.32, '86': 0.3, '87': 0.04, '88': 0.54, '89': 0.41, '90': 0.57, '91': 0.08, '92': 0.85, '93': 0.0, '94': 0.85, '95': 0.75, '96': 0.23, '97': 0.11, '98': 0.38, '99': 0.67}\n",
      "Runtime: 0.08801984786987305\n",
      "================================================\n",
      "Summary Results:\n",
      "Validity:True\n",
      "Sparsity:1\n",
      "Runtime:0.08801984786987305\n"
     ]
    }
   ],
   "source": [
    "def main():\n",
    "\n",
    "    start_time = time.time() # record the current time\n",
    "\n",
    "\n",
    "    # set parameters\n",
    "    filename = f'../../bags/cyclic_0.bag'\n",
    "    topic_arg = 0\n",
    "    desired_strength = 0.5\n",
    "\n",
    "\n",
    "    # obtain origin_base_score_dict\n",
    "    bag = grad.BAG(filename)\n",
    "    origin_base_score_dict = {}\n",
    "    for arg in bag.arguments.values():\n",
    "        origin_base_score_dict[arg.name] = arg.get_initial_weight()\n",
    "    # print(f\"origin_base_score_dict:{origin_base_score_dict}\")\n",
    "\n",
    "\n",
    "    # compute cycles, polarity, priority\n",
    "    adj_matrix = parse_qbaf(filename)\n",
    "    graph_dict = adjacency_matrix_to_dict(adj_matrix)\n",
    "    cycles = find_all_cycles(graph_dict)\n",
    "    cycles_polarity_dict = compute_cycle_polarity(cycles, adj_matrix)\n",
    "    polarity = compute_polarity_vector(graph_dict, topic_arg, cycles_polarity_dict, adj_matrix)\n",
    "    # priority = [1] * len(origin_base_score_dict)\n",
    "    priority = compute_priority_vector(graph_dict, topic_arg)\n",
    "    # print(f\"cycle polarity:{cycles_polarity_dict}\")\n",
    "    # print(f\"polarity:{polarity}\")\n",
    "    # print(f\"priority:{priority}\")\n",
    "\n",
    "    # compute a potential cause\n",
    "    model = grad.semantics.QuadraticEnergyModel()\n",
    "    potential_cause_dict, validity = compute_potential_cause_cyclic_sparsity(filename, topic_arg, desired_strength, polarity, priority, model)\n",
    "\n",
    "    # Compute sparsity\n",
    "    sparsity = compute_sparsity(origin_base_score_dict, potential_cause_dict)\n",
    "\n",
    "    end_time = time.time()\n",
    "    runtime = end_time - start_time\n",
    "    print(f\"Runtime: {runtime}\")\n",
    "\n",
    "    print(f\"================================================\")\n",
    "    print(f\"Summary Results:\")\n",
    "    print(f\"Validity:{validity}\")\n",
    "    print(f\"Sparsity:{sparsity}\")\n",
    "    print(f\"Runtime:{runtime}\")\n",
    "\n",
    "if __name__ == \"__main__\":\n",
    "    main()"
   ],
   "metadata": {
    "collapsed": false
   }
  }
 ],
 "metadata": {
  "kernelspec": {
   "display_name": "Python 3",
   "language": "python",
   "name": "python3"
  },
  "language_info": {
   "codemirror_mode": {
    "name": "ipython",
    "version": 2
   },
   "file_extension": ".py",
   "mimetype": "text/x-python",
   "name": "python",
   "nbconvert_exporter": "python",
   "pygments_lexer": "ipython2",
   "version": "2.7.6"
  }
 },
 "nbformat": 4,
 "nbformat_minor": 0
}
