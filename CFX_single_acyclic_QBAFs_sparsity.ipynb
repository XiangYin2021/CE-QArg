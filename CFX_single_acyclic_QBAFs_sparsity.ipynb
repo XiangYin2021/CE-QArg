{
 "cells": [
  {
   "cell_type": "code",
   "execution_count": 59,
   "metadata": {
    "collapsed": true
   },
   "outputs": [],
   "source": [
    "import re\n",
    "import math\n",
    "import sys\n",
    "sys.path.append(\"../../src/\")\n",
    "import uncertainpy.gradual as grad\n",
    "import time\n",
    "from statistics import median\n",
    "import random\n",
    "random.seed(0)"
   ]
  },
  {
   "cell_type": "code",
   "execution_count": 60,
   "outputs": [],
   "source": [
    "# Parse a QBAF file to an adjacency matrix\n",
    "def parse_qbaf(filename):\n",
    "    num_nodes = 0\n",
    "    with open(filename, 'r') as file:\n",
    "        for line in file:\n",
    "            match = re.match(r'(\\w+)\\((\\d+), ([\\d.]+)\\)', line)\n",
    "            if match:\n",
    "                type, node_id1, weight = match.groups()\n",
    "                if type == 'arg':\n",
    "                    num_nodes += 1\n",
    "            else:\n",
    "                raise ValueError(f\"can't parse this line: {line}\")\n",
    "        adj_matrix = [[0] * num_nodes for _ in range(num_nodes)]\n",
    "\n",
    "    with open(filename, 'r') as file:\n",
    "        for line in file:\n",
    "            match = re.match(r'(\\w+)\\((\\d+), ([\\d.]+)\\)', line)\n",
    "            if match:\n",
    "                type, node_id1, node_id2 = match.groups()\n",
    "                if type == 'att':\n",
    "                    adj_matrix[int(node_id1)][int(node_id2)] = -1\n",
    "                elif type == 'sup':\n",
    "                    adj_matrix[int(node_id1)][int(node_id2)] = 1\n",
    "            else:\n",
    "                raise ValueError(f\"can't parse this line: {line}\")\n",
    "    return adj_matrix"
   ],
   "metadata": {
    "collapsed": false
   }
  },
  {
   "cell_type": "code",
   "execution_count": 61,
   "outputs": [],
   "source": [
    "# Convert the adjacency matrix to a python dictionary\n",
    "def adjacency_matrix_to_dict(adj_matrix):\n",
    "    graph_dict = {}\n",
    "\n",
    "    for i, row in enumerate(adj_matrix):\n",
    "        neighbors = set(j for j, weight in enumerate(row) if weight != 0)\n",
    "        graph_dict[i] = neighbors\n",
    "\n",
    "    return graph_dict"
   ],
   "metadata": {
    "collapsed": false
   }
  },
  {
   "cell_type": "code",
   "execution_count": 62,
   "outputs": [],
   "source": [
    "# Compute all the paths between two arguments\n",
    "def find_all_paths_between_two_args(graph, start, end, path=[]):\n",
    "    path = path + [start]\n",
    "    if start == end:\n",
    "        return [path]\n",
    "    if start not in graph:\n",
    "        return []\n",
    "    paths = []\n",
    "    for node in graph[start]:\n",
    "        if node not in path:\n",
    "            new_paths = find_all_paths_between_two_args(graph, node, end, path)\n",
    "            for new_path in new_paths:\n",
    "                paths.append(new_path)\n",
    "    return paths\n",
    "\n",
    "def find_all_paths_between_two_args_complete(graph, start, end, path=[]):\n",
    "    if start == end:\n",
    "        return []\n",
    "    else:\n",
    "        paths = find_all_paths_between_two_args(graph, start, end)\n",
    "        return paths"
   ],
   "metadata": {
    "collapsed": false
   }
  },
  {
   "cell_type": "code",
   "execution_count": 63,
   "outputs": [],
   "source": [
    "# Compute the (direct or indirect) polarity from one node to another, return an integer\n",
    "def compute_polarity_between_two_args(graph, start_node, end_node, adj_matrix):\n",
    "    paths = find_all_paths_between_two_args_complete(graph, start_node, end_node)\n",
    "    paths_count = len(paths)\n",
    "    # print(paths_count)\n",
    "    # print(paths)\n",
    "\n",
    "    # case1: self to self:\n",
    "    if start_node == end_node:\n",
    "        return 1 # positive\n",
    "\n",
    "    # case2: no path\n",
    "    if paths_count == 0:\n",
    "        return -2 # neutral\n",
    "\n",
    "    # case3: 1 path or more than 1\n",
    "    elif paths_count >= 1:\n",
    "\n",
    "        # record the polarity for each path\n",
    "        recodr_polarity = [1] * paths_count\n",
    "        for j in range(paths_count):\n",
    "            for i in range(len(paths[j])-1):\n",
    "                recodr_polarity[j] *= adj_matrix[paths[j][i]][paths[j][i+1]]\n",
    "\n",
    "        if all(x == 1 for x in recodr_polarity):\n",
    "            pol = 1 # positive: if all the paths are positive\n",
    "        elif all(x == -1 for x in recodr_polarity):\n",
    "            pol = -1 # negative: if all the paths are negative\n",
    "        else:\n",
    "            pol = 0 # unknown: some paths positive while some negative\n",
    "\n",
    "        return pol"
   ],
   "metadata": {
    "collapsed": false
   }
  },
  {
   "cell_type": "code",
   "execution_count": 64,
   "outputs": [],
   "source": [
    "# Compute the polarity for all the nodes to the topic argument, return a vector\n",
    "def compute_polarity_vector(graph, topic_arg, adj_matrix):\n",
    "    num_nodes = len(graph)\n",
    "    polarity_vector = [-2] * num_nodes\n",
    "    for i in range(num_nodes):\n",
    "        polarity_vector[i] = compute_polarity_between_two_args(graph, i, topic_arg, adj_matrix)\n",
    "    return polarity_vector"
   ],
   "metadata": {
    "collapsed": false
   }
  },
  {
   "cell_type": "code",
   "execution_count": 65,
   "outputs": [],
   "source": [
    "# Compute priority (not polarity) between two arguments\n",
    "def compute_priority_between_two_args(graph, start, end):\n",
    "    if start == end:\n",
    "        return 3 # itself\n",
    "    paths = find_all_paths_between_two_args(graph, start, end)\n",
    "    if len(paths) == 0:\n",
    "        return 0 # disconnected\n",
    "    min_length = min(len(path) for path in paths) - 1\n",
    "    priority = 1 / min_length # single/multi-path connected\n",
    "    return priority"
   ],
   "metadata": {
    "collapsed": false
   }
  },
  {
   "cell_type": "code",
   "execution_count": 66,
   "outputs": [],
   "source": [
    "# Compute the priority for all arguments to the topic argument\n",
    "def compute_priority_vector(graph, topic_arg):\n",
    "    num_nodes = len(graph)\n",
    "    priority_vector = [0] * num_nodes\n",
    "    for i in range(num_nodes):\n",
    "        priority_vector[i] = compute_priority_between_two_args(graph, i, topic_arg)\n",
    "    return priority_vector"
   ],
   "metadata": {
    "collapsed": false
   }
  },
  {
   "cell_type": "code",
   "execution_count": 67,
   "outputs": [],
   "source": [
    "# Compute different quotiont from one argument to the topic argument\n",
    "def diff_quotient(bag, arg, topic_arg, h, agg_f, inf_f):\n",
    "\n",
    "    sigma = bag.arguments[str(topic_arg)].strength\n",
    "\n",
    "    arg_initial = arg.get_initial_weight()\n",
    "    arg.reset_initial_weight(arg_initial + h)\n",
    "\n",
    "    grad.algorithms.computeStrengthValues(bag, agg_f, inf_f)\n",
    "    sigma_new = bag.arguments[str(topic_arg)].strength\n",
    "\n",
    "    arg.reset_initial_weight(arg_initial)\n",
    "    grad.algorithms.computeStrengthValues(bag, agg_f, inf_f)\n",
    "\n",
    "    return (sigma_new - sigma) / h"
   ],
   "metadata": {
    "collapsed": false
   }
  },
  {
   "cell_type": "code",
   "execution_count": 68,
   "outputs": [],
   "source": [
    "def compute_sparsity(bs1, bs2):\n",
    "    count = 0\n",
    "    for item in bs1:\n",
    "        if bs1[item]!=bs2[item]:\n",
    "            count += 1\n",
    "    return count"
   ],
   "metadata": {
    "collapsed": false
   }
  },
  {
   "cell_type": "code",
   "execution_count": 69,
   "outputs": [],
   "source": [
    "def compute_potential_cause_acyclic_sparsity(filename, topic_arg, desired_strength, polarity, priority, agg_f, inf_f):\n",
    "\n",
    "    bag = grad.BAG(filename)\n",
    "    grad.algorithms.computeStrengthValues(bag, agg_f, inf_f)\n",
    "    # print(f\"number of args: {len(bag.arguments)}\")\n",
    "\n",
    "    pre_strength = -1\n",
    "\n",
    "    # print(f\"desired_strength:{desired_strength}\")\n",
    "    initial_strength = bag.arguments[str(topic_arg)].strength\n",
    "    cur_strength = initial_strength\n",
    "    print(f\"cur_strength:{initial_strength}\")\n",
    "\n",
    "    # rank the priority list\n",
    "    sorted_priority = sorted(priority, reverse=True)\n",
    "    indices_sorted_priority = [index for index, value in sorted(enumerate(priority), key=lambda x: x[1], reverse=True)]\n",
    "\n",
    "    # traverse all the argument from the highest priority to the lowest\n",
    "    for i in indices_sorted_priority:\n",
    "        if pre_strength == cur_strength:\n",
    "            break\n",
    "        if (desired_strength - cur_strength) * (desired_strength - initial_strength) > 0: # initial strength and current strength still at the same side\n",
    "\n",
    "            # increase positive and decrease negative\n",
    "            if (desired_strength - cur_strength) * polarity[i] > 0:\n",
    "                bag.arguments[str(i)].reset_initial_weight(1.0)\n",
    "            elif (desired_strength - cur_strength) * polarity[i] < 0:\n",
    "                bag.arguments[str(i)].reset_initial_weight(0.0)\n",
    "\n",
    "            # re-compute the strength\n",
    "            print(f\"desired_strength:{desired_strength}\")\n",
    "            pre_strength = cur_strength\n",
    "            grad.algorithms.computeStrengthValues(bag, agg_f, inf_f)\n",
    "            cur_strength = bag.arguments[str(topic_arg)].strength\n",
    "            print(f\"cur_strength:{cur_strength}\")\n",
    "\n",
    "            # print current bs\n",
    "            current_bs_dict = {}\n",
    "            for arg in bag.arguments.values():\n",
    "                current_bs_dict[arg.get_name()] = arg.get_initial_weight()\n",
    "            print(f\"current base scores: {current_bs_dict}\")\n",
    "\n",
    "    # print current bs\n",
    "    current_bs_dict = {}\n",
    "    for arg in bag.arguments.values():\n",
    "        current_bs_dict[arg.get_name()] = arg.get_initial_weight()\n",
    "    print(f\"current base scores: {current_bs_dict}\")\n",
    "\n",
    "    # compute validity\n",
    "    validity = False\n",
    "    if (desired_strength - cur_strength) * (desired_strength - initial_strength) < 0 or desired_strength == cur_strength:\n",
    "        validity = True\n",
    "\n",
    "    return current_bs_dict, validity"
   ],
   "metadata": {
    "collapsed": false
   }
  },
  {
   "cell_type": "code",
   "execution_count": 70,
   "outputs": [],
   "source": [
    "# priority = [3, 1.0, 1.0]\n",
    "# sorted_priority = sorted(priority, reverse=True)\n",
    "# indices_sorted_priority = [index for index, value in sorted(enumerate(priority), key=lambda x: x[1], reverse=True)]\n",
    "# print(\"priority:\", priority)\n",
    "# print(\"priority_sorted:\", sorted_priority)\n",
    "# print(\"priority_index:\", indices_sorted_priority)"
   ],
   "metadata": {
    "collapsed": false
   }
  },
  {
   "cell_type": "code",
   "execution_count": 71,
   "outputs": [
    {
     "name": "stdout",
     "output_type": "stream",
     "text": [
      "priority:[3, 1.0, 1.0]\n",
      "cur_strength:0.13699037793869656\n",
      "desired_strength:0.5\n",
      "cur_strength:1.0\n",
      "current base scores: {'0': 1.0, '1': 0.85, '2': 0.76}\n",
      "current base scores: {'0': 1.0, '1': 0.85, '2': 0.76}\n",
      "================================================\n",
      "Summary Results:\n",
      "Validity:True\n",
      "Sparsity:1\n",
      "Runtime:0.0010001659393310547\n"
     ]
    }
   ],
   "source": [
    "def main():\n",
    "\n",
    "    start_time = time.time() # record the current time\n",
    "\n",
    "    # Set parameters\n",
    "    filename = f'../../bags/acyclic_0.bag'\n",
    "    topic_arg = 0\n",
    "    desired_strength = 0.5\n",
    "    agg_f = grad.semantics.modular.SumAggregation()\n",
    "    inf_f = grad.semantics.modular.QuadraticMaximumInfluence(conservativeness=1)\n",
    "\n",
    "    # Obtain origin_base_score_dict\n",
    "    bag = grad.BAG(filename)\n",
    "    origin_base_score_dict = {}\n",
    "    for arg in bag.arguments.values():\n",
    "        origin_base_score_dict[arg.name] = arg.get_initial_weight()\n",
    "    # print(f\"origin_base_score_dict:{origin_base_score_dict}\")\n",
    "\n",
    "    # Compute polarity, priority\n",
    "    adj_matrix = parse_qbaf(filename)\n",
    "    graph_dict = adjacency_matrix_to_dict(adj_matrix)\n",
    "    polarity = compute_polarity_vector(graph_dict, topic_arg, adj_matrix)\n",
    "    priority = compute_priority_vector(graph_dict, topic_arg)\n",
    "    # print(f\"cycle polarity:{cycles_polarity_dict}\")\n",
    "    # print(f\"polarity:{polarity}\")\n",
    "    print(f\"priority:{priority}\")\n",
    "\n",
    "    # Compute a potential cause\n",
    "    potential_cause_dict, validity = compute_potential_cause_acyclic_sparsity(filename, topic_arg, desired_strength, polarity, priority, agg_f, inf_f)\n",
    "\n",
    "    # Compute sparsity\n",
    "    sparsity = compute_sparsity(origin_base_score_dict, potential_cause_dict)\n",
    "\n",
    "    # Compute runtime\n",
    "    end_time = time.time()\n",
    "    runtime = end_time - start_time\n",
    "\n",
    "    # Print out details\n",
    "    print(f\"================================================\")\n",
    "    print(f\"Summary Results:\")\n",
    "    print(f\"Validity:{validity}\")\n",
    "    print(f\"Sparsity:{sparsity}\")\n",
    "    print(f\"Runtime:{runtime}\")\n",
    "\n",
    "if __name__ == \"__main__\":\n",
    "    main()"
   ],
   "metadata": {
    "collapsed": false
   }
  }
 ],
 "metadata": {
  "kernelspec": {
   "display_name": "Python 3",
   "language": "python",
   "name": "python3"
  },
  "language_info": {
   "codemirror_mode": {
    "name": "ipython",
    "version": 2
   },
   "file_extension": ".py",
   "mimetype": "text/x-python",
   "name": "python",
   "nbconvert_exporter": "python",
   "pygments_lexer": "ipython2",
   "version": "2.7.6"
  }
 },
 "nbformat": 4,
 "nbformat_minor": 0
}
