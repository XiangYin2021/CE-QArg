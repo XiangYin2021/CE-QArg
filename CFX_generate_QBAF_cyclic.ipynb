{
 "cells": [
  {
   "cell_type": "code",
   "execution_count": 161,
   "metadata": {
    "collapsed": true
   },
   "outputs": [],
   "source": [
    "import random\n",
    "\n",
    "# set random seed\n",
    "random.seed(1)"
   ]
  },
  {
   "cell_type": "code",
   "execution_count": 162,
   "outputs": [],
   "source": [
    "# generate random directed cyclic graph\n",
    "def generate_graph(num_nodes, p):\n",
    "\n",
    "    # initialise\n",
    "    graph = {node: set() for node in range(num_nodes)}\n",
    "    all_edges = []\n",
    "\n",
    "    # generate possible edges with probability p\n",
    "    for i in range(num_nodes):\n",
    "        for j in range(num_nodes): # cyclic\n",
    "        # for j in range(i + 1, num_nodes): # acyclic\n",
    "            if random.uniform(0.0, 1.0) < p:\n",
    "                all_edges.append((i, j))\n",
    "\n",
    "    # add edges to graph\n",
    "    for edge in all_edges:\n",
    "        u, v = edge\n",
    "        graph[u].add(v)\n",
    "\n",
    "    return graph"
   ],
   "metadata": {
    "collapsed": false
   }
  },
  {
   "cell_type": "code",
   "execution_count": 163,
   "outputs": [],
   "source": [
    "import sys\n",
    "\n",
    "# generate a random cyclic QBAF and output to a file\n",
    "def generate_and_write_graph(filename, num_nodes, p):\n",
    "    with open(filename, 'w') as f:\n",
    "        sys.stdout = f\n",
    "\n",
    "        # generate the node and edge of a graph\n",
    "        random_graph = generate_graph(num_nodes, p)\n",
    "\n",
    "        # generate random base scores for arguments\n",
    "        for node, edges in random_graph.items():\n",
    "            random_float = round(random.uniform(0.0, 1.0),2)\n",
    "            print(f\"arg({node}, {random_float}).\")\n",
    "\n",
    "        # generate random polarity for edges\n",
    "        for node, edges in random_graph.items():\n",
    "            for edge in edges:\n",
    "                random_boolean = random.choice([True, False])\n",
    "                if random_boolean:\n",
    "                    print(f\"att({node}, {edge}).\")\n",
    "                else:\n",
    "                    print(f\"sup({node}, {edge}).\")\n",
    "\n",
    "    sys.stdout = sys.__stdout__"
   ],
   "metadata": {
    "collapsed": false
   }
  },
  {
   "cell_type": "code",
   "execution_count": 164,
   "outputs": [],
   "source": [
    "N = 100 # generate N QBAFs storing in N files\n",
    "num_nodes = 110\n",
    "p = 0.00909090"
   ],
   "metadata": {
    "collapsed": false
   }
  },
  {
   "cell_type": "code",
   "execution_count": 165,
   "outputs": [],
   "source": [
    "for i in range(N):\n",
    "    filename = f'../../bags/cyclic_{i}.bag'\n",
    "    generate_and_write_graph(filename, num_nodes, p)"
   ],
   "metadata": {
    "collapsed": false
   }
  }
 ],
 "metadata": {
  "kernelspec": {
   "display_name": "Python 3",
   "language": "python",
   "name": "python3"
  },
  "language_info": {
   "codemirror_mode": {
    "name": "ipython",
    "version": 2
   },
   "file_extension": ".py",
   "mimetype": "text/x-python",
   "name": "python",
   "nbconvert_exporter": "python",
   "pygments_lexer": "ipython2",
   "version": "2.7.6"
  }
 },
 "nbformat": 4,
 "nbformat_minor": 0
}
