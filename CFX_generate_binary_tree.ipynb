{
 "cells": [
  {
   "cell_type": "code",
   "execution_count": 16,
   "metadata": {
    "collapsed": true
   },
   "outputs": [],
   "source": [
    "import random\n",
    "\n",
    "# set random seed\n",
    "random.seed(1)"
   ]
  },
  {
   "cell_type": "code",
   "execution_count": 17,
   "outputs": [],
   "source": [
    "# generate random directed acyclic graph\n",
    "def generate_graph_binary(depth):\n",
    "\n",
    "    # initialise\n",
    "    num_nodes = 2 ** depth -1\n",
    "    graph = {node: set() for node in range(num_nodes)}\n",
    "    all_edges = []\n",
    "\n",
    "    # generate binary tree\n",
    "    for i in range(1, num_nodes):\n",
    "        if i%2 != 0:\n",
    "            all_edges.append((i, int((i-1)/2)))\n",
    "        elif i%2 == 0:\n",
    "            all_edges.append((i, int((i-2)/2)))\n",
    "\n",
    "    # add edges to graph\n",
    "    for edge in all_edges:\n",
    "        u, v = edge\n",
    "        graph[u].add(v)\n",
    "\n",
    "    return graph"
   ],
   "metadata": {
    "collapsed": false
   }
  },
  {
   "cell_type": "code",
   "execution_count": 18,
   "outputs": [],
   "source": [
    "import sys\n",
    "\n",
    "# generate a random acyclic QBAF and output to a file\n",
    "def generate_and_write_graph(filename, depth):\n",
    "    with open(filename, 'w') as f:\n",
    "        sys.stdout = f\n",
    "\n",
    "        # generate the node and edge of a graph\n",
    "        random_graph = generate_graph_binary(depth)\n",
    "\n",
    "        # generate random base scores for arguments\n",
    "        for node, edges in random_graph.items():\n",
    "            random_float = round(random.uniform(0.0, 1.0),2)\n",
    "            print(f\"arg({node}, {random_float}).\")\n",
    "\n",
    "        # generate random polarity for edges\n",
    "        for node, edges in random_graph.items():\n",
    "            for edge in edges:\n",
    "                random_boolean = random.choice([True, False])\n",
    "                if random_boolean:\n",
    "                    print(f\"att({node}, {edge}).\")\n",
    "                else:\n",
    "                    print(f\"sup({node}, {edge}).\")\n",
    "\n",
    "    sys.stdout = sys.__stdout__"
   ],
   "metadata": {
    "collapsed": false
   }
  },
  {
   "cell_type": "code",
   "execution_count": 19,
   "outputs": [],
   "source": [
    "N = 100 # generate N QBAFs storing in N files\n",
    "depth = 7\n",
    "# generate_graph(depth)"
   ],
   "metadata": {
    "collapsed": false
   }
  },
  {
   "cell_type": "code",
   "execution_count": 20,
   "outputs": [],
   "source": [
    "for i in range(N):\n",
    "    filename = f'../../bags/binary_tree_{i}.bag'\n",
    "    generate_and_write_graph(filename, depth)"
   ],
   "metadata": {
    "collapsed": false
   }
  }
 ],
 "metadata": {
  "kernelspec": {
   "display_name": "Python 3",
   "language": "python",
   "name": "python3"
  },
  "language_info": {
   "codemirror_mode": {
    "name": "ipython",
    "version": 2
   },
   "file_extension": ".py",
   "mimetype": "text/x-python",
   "name": "python",
   "nbconvert_exporter": "python",
   "pygments_lexer": "ipython2",
   "version": "2.7.6"
  }
 },
 "nbformat": 4,
 "nbformat_minor": 0
}
